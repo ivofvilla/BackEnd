{
  "nbformat": 4,
  "nbformat_minor": 0,
  "metadata": {
    "colab": {
      "name": "Introdução a Collections.ipynb",
      "provenance": [],
      "collapsed_sections": []
    },
    "kernelspec": {
      "name": "python3",
      "display_name": "Python 3"
    }
  },
  "cells": [
    {
      "cell_type": "code",
      "metadata": {
        "id": "9WyiZ7Hz1G1g",
        "colab_type": "code",
        "colab": {}
      },
      "source": [
        "idades = [35, 30, 27, 18]"
      ],
      "execution_count": 0,
      "outputs": []
    },
    {
      "cell_type": "code",
      "metadata": {
        "id": "UijexmKL17Uh",
        "colab_type": "code",
        "colab": {
          "base_uri": "https://localhost:8080/",
          "height": 34
        },
        "outputId": "1c5b39f5-6c18-402b-ea87-67ca5d01b43e"
      },
      "source": [
        "type(idades)"
      ],
      "execution_count": 2,
      "outputs": [
        {
          "output_type": "execute_result",
          "data": {
            "text/plain": [
              "list"
            ]
          },
          "metadata": {
            "tags": []
          },
          "execution_count": 2
        }
      ]
    },
    {
      "cell_type": "code",
      "metadata": {
        "id": "3bAhLn6h19uC",
        "colab_type": "code",
        "colab": {
          "base_uri": "https://localhost:8080/",
          "height": 34
        },
        "outputId": "a3d09465-fafc-4c76-bfdb-bf57ffbd8521"
      },
      "source": [
        "idades[2]"
      ],
      "execution_count": 4,
      "outputs": [
        {
          "output_type": "execute_result",
          "data": {
            "text/plain": [
              "27"
            ]
          },
          "metadata": {
            "tags": []
          },
          "execution_count": 4
        }
      ]
    },
    {
      "cell_type": "code",
      "metadata": {
        "id": "Vs-4lZj02A_q",
        "colab_type": "code",
        "colab": {
          "base_uri": "https://localhost:8080/",
          "height": 34
        },
        "outputId": "25545836-778c-4905-bd36-cb6a5cd211a9"
      },
      "source": [
        "len(idades)"
      ],
      "execution_count": 5,
      "outputs": [
        {
          "output_type": "execute_result",
          "data": {
            "text/plain": [
              "4"
            ]
          },
          "metadata": {
            "tags": []
          },
          "execution_count": 5
        }
      ]
    },
    {
      "cell_type": "code",
      "metadata": {
        "id": "m4Ljwa-32P3D",
        "colab_type": "code",
        "colab": {}
      },
      "source": [
        "idades.append(15)"
      ],
      "execution_count": 0,
      "outputs": []
    },
    {
      "cell_type": "code",
      "metadata": {
        "id": "rW513K2w2xI2",
        "colab_type": "code",
        "colab": {
          "base_uri": "https://localhost:8080/",
          "height": 34
        },
        "outputId": "835f91f8-dd92-40b4-9173-da5825a682be"
      },
      "source": [
        "len(idades)"
      ],
      "execution_count": 8,
      "outputs": [
        {
          "output_type": "execute_result",
          "data": {
            "text/plain": [
              "5"
            ]
          },
          "metadata": {
            "tags": []
          },
          "execution_count": 8
        }
      ]
    },
    {
      "cell_type": "code",
      "metadata": {
        "id": "Krubjk-g21X8",
        "colab_type": "code",
        "colab": {
          "base_uri": "https://localhost:8080/",
          "height": 101
        },
        "outputId": "66212ba7-4377-4ac7-f435-717f12782b90"
      },
      "source": [
        "for idade in idades:\n",
        "  print(idade)"
      ],
      "execution_count": 11,
      "outputs": [
        {
          "output_type": "stream",
          "text": [
            "35\n",
            "30\n",
            "27\n",
            "18\n",
            "15\n"
          ],
          "name": "stdout"
        }
      ]
    },
    {
      "cell_type": "code",
      "metadata": {
        "id": "QBKjp6WD3A83",
        "colab_type": "code",
        "colab": {}
      },
      "source": [
        "idades.remove(30)"
      ],
      "execution_count": 0,
      "outputs": []
    },
    {
      "cell_type": "code",
      "metadata": {
        "id": "-S69WS143K2b",
        "colab_type": "code",
        "colab": {
          "base_uri": "https://localhost:8080/",
          "height": 84
        },
        "outputId": "2aa8a17f-f059-4e51-feb1-c8f13420aa90"
      },
      "source": [
        "for idade in idades:\n",
        "  print(idade)"
      ],
      "execution_count": 13,
      "outputs": [
        {
          "output_type": "stream",
          "text": [
            "35\n",
            "27\n",
            "18\n",
            "15\n"
          ],
          "name": "stdout"
        }
      ]
    },
    {
      "cell_type": "code",
      "metadata": {
        "id": "NV0Iagj63MrT",
        "colab_type": "code",
        "colab": {
          "base_uri": "https://localhost:8080/",
          "height": 34
        },
        "outputId": "24df3634-1260-4d7a-ee98-938838a683f5"
      },
      "source": [
        "27 in idades"
      ],
      "execution_count": 14,
      "outputs": [
        {
          "output_type": "execute_result",
          "data": {
            "text/plain": [
              "True"
            ]
          },
          "metadata": {
            "tags": []
          },
          "execution_count": 14
        }
      ]
    },
    {
      "cell_type": "code",
      "metadata": {
        "id": "cuF_pjcB3-gh",
        "colab_type": "code",
        "colab": {
          "base_uri": "https://localhost:8080/",
          "height": 34
        },
        "outputId": "3afeabad-4e26-43ef-eee8-8aa98bf0b7b2"
      },
      "source": [
        "idades.extend([27,19])\n",
        "idades"
      ],
      "execution_count": 16,
      "outputs": [
        {
          "output_type": "execute_result",
          "data": {
            "text/plain": [
              "[35, 27, 18, 15, 27, 19, 27, 19]"
            ]
          },
          "metadata": {
            "tags": []
          },
          "execution_count": 16
        }
      ]
    },
    {
      "cell_type": "code",
      "metadata": {
        "id": "EFsizqez5Ngp",
        "colab_type": "code",
        "colab": {
          "base_uri": "https://localhost:8080/",
          "height": 34
        },
        "outputId": "9f91f8a2-1c45-4ede-99ef-f4525abfd984"
      },
      "source": [
        "idades_ano_q_vem = []\n",
        "for idade in idades:\n",
        "  idades_ano_q_vem.append(idade+1)\n",
        "\n",
        "idades_ano_q_vem"
      ],
      "execution_count": 19,
      "outputs": [
        {
          "output_type": "execute_result",
          "data": {
            "text/plain": [
              "[36, 28, 19, 16, 28, 20, 28, 20]"
            ]
          },
          "metadata": {
            "tags": []
          },
          "execution_count": 19
        }
      ]
    },
    {
      "cell_type": "code",
      "metadata": {
        "id": "wNZHo1gT5oDD",
        "colab_type": "code",
        "colab": {
          "base_uri": "https://localhost:8080/",
          "height": 34
        },
        "outputId": "b3993c42-4e86-4588-db94-1cfc2ffc3ac3"
      },
      "source": [
        "idades_ano_q_vem_ = [(idade+1) for idade in idades]\n",
        "idades_ano_q_vem_"
      ],
      "execution_count": 22,
      "outputs": [
        {
          "output_type": "execute_result",
          "data": {
            "text/plain": [
              "[36, 28, 19, 16, 28, 20, 28, 20]"
            ]
          },
          "metadata": {
            "tags": []
          },
          "execution_count": 22
        }
      ]
    },
    {
      "cell_type": "code",
      "metadata": {
        "id": "bSEpg6yv555Z",
        "colab_type": "code",
        "colab": {
          "base_uri": "https://localhost:8080/",
          "height": 34
        },
        "outputId": "7a74bdfe-c85a-4819-c451-97c76a697acb"
      },
      "source": [
        "idades_ano_q_vem_ = [(idade+1) for idade in idades if idade > 21]\n",
        "idades_ano_q_vem_"
      ],
      "execution_count": 23,
      "outputs": [
        {
          "output_type": "execute_result",
          "data": {
            "text/plain": [
              "[36, 28, 28, 28]"
            ]
          },
          "metadata": {
            "tags": []
          },
          "execution_count": 23
        }
      ]
    },
    {
      "cell_type": "code",
      "metadata": {
        "id": "wnjykZCj6LEw",
        "colab_type": "code",
        "colab": {
          "base_uri": "https://localhost:8080/",
          "height": 34
        },
        "outputId": "45a56c87-d6b5-4937-c5be-d0c0a283d061"
      },
      "source": [
        "def proximo_ano(idade):\n",
        "   return idade+1\n",
        "\n",
        "[proximo_ano(idade) for idade in idades if idade > 21]"
      ],
      "execution_count": 27,
      "outputs": [
        {
          "output_type": "execute_result",
          "data": {
            "text/plain": [
              "[36, 28, 28, 28]"
            ]
          },
          "metadata": {
            "tags": []
          },
          "execution_count": 27
        }
      ]
    },
    {
      "cell_type": "code",
      "metadata": {
        "id": "dp0szb5z6stJ",
        "colab_type": "code",
        "colab": {}
      },
      "source": [
        "def faz_proecssamento_de_visualizacao(lista = None):\n",
        "   if lista == None:\n",
        "     lista = list()\n",
        "   print(len(lista))"
      ],
      "execution_count": 0,
      "outputs": []
    },
    {
      "cell_type": "code",
      "metadata": {
        "id": "Clc9LgOM8XnX",
        "colab_type": "code",
        "colab": {
          "base_uri": "https://localhost:8080/",
          "height": 50
        },
        "outputId": "80374688-f5ea-43d0-e928-a3cddbf04b1c"
      },
      "source": [
        "idades= [16,21,29,56,43]\n",
        "faz_proecssamento_de_visualizacao(idades)\n",
        "idades"
      ],
      "execution_count": 30,
      "outputs": [
        {
          "output_type": "stream",
          "text": [
            "5\n"
          ],
          "name": "stdout"
        },
        {
          "output_type": "execute_result",
          "data": {
            "text/plain": [
              "[16, 21, 29, 56, 43]"
            ]
          },
          "metadata": {
            "tags": []
          },
          "execution_count": 30
        }
      ]
    },
    {
      "cell_type": "code",
      "metadata": {
        "id": "el8ecFiv8g_0",
        "colab_type": "code",
        "colab": {}
      },
      "source": [
        "class ContaCorrente:\n",
        "  def __init__(self, codigo):\n",
        "    self._codigo = codigo\n",
        "    self._saldo = 0\n",
        "\n",
        "  def deposita(self, valor):\n",
        "    self.saldo += valor\n",
        "\n",
        "  def __str__(self):\n",
        "    return \"[>>Codigo {} Saldo {}<<]\".format(self._codigo, self._saldo)"
      ],
      "execution_count": 0,
      "outputs": []
    },
    {
      "cell_type": "code",
      "metadata": {
        "id": "GN3t84QZDxyq",
        "colab_type": "code",
        "colab": {
          "base_uri": "https://localhost:8080/",
          "height": 34
        },
        "outputId": "a668bf1d-71f6-4137-9aa6-ac4429d832f6"
      },
      "source": [
        "conta = ContaCorrente(15)\n",
        "print(conta)"
      ],
      "execution_count": 42,
      "outputs": [
        {
          "output_type": "stream",
          "text": [
            "[>>Codigo 15 Saldo 0<<]\n"
          ],
          "name": "stdout"
        }
      ]
    },
    {
      "cell_type": "code",
      "metadata": {
        "id": "L1hgA9owDt3C",
        "colab_type": "code",
        "colab": {}
      },
      "source": [
        "conta_dani = ContaCorrente(21)\n",
        "conta_dani.deposita(1000)"
      ],
      "execution_count": 0,
      "outputs": []
    },
    {
      "cell_type": "code",
      "metadata": {
        "id": "ILSVeEx5A-uv",
        "colab_type": "code",
        "colab": {
          "base_uri": "https://localhost:8080/",
          "height": 67
        },
        "outputId": "9ace9ee1-bbc5-4db9-faf7-bd869468a1d5"
      },
      "source": [
        "contas = [conta, conta_dani]\n",
        "print(contas)\n",
        "for conta in contas:\n",
        "  print(conta)"
      ],
      "execution_count": 47,
      "outputs": [
        {
          "output_type": "stream",
          "text": [
            "[<__main__.ContaCorrente object at 0x7f491ebd5a90>, <__main__.ContaCorrente object at 0x7f491ebd5f28>]\n",
            "[>>Codigo 15 Saldo 0<<]\n",
            "[>>Codigo 21 Saldo 1000<<]\n"
          ],
          "name": "stdout"
        }
      ]
    },
    {
      "cell_type": "code",
      "metadata": {
        "id": "jJJymZXMDvV1",
        "colab_type": "code",
        "colab": {
          "base_uri": "https://localhost:8080/",
          "height": 50
        },
        "outputId": "2249cabc-6e8a-455b-8d3b-5d6a7f586c87"
      },
      "source": [
        "def deposita_para_todas(contas):\n",
        "  for conta in contas:\n",
        "    conta.deposita(100)\n",
        "\n",
        "contas = [conta, conta_dani]\n",
        "print(contas[0], contas[1])\n",
        "deposita_para_todas(contas)\n",
        "print(contas[0], contas[1])"
      ],
      "execution_count": 48,
      "outputs": [
        {
          "output_type": "stream",
          "text": [
            "[>>Codigo 21 Saldo 1000<<] [>>Codigo 21 Saldo 1000<<]\n",
            "[>>Codigo 21 Saldo 1200<<] [>>Codigo 21 Saldo 1200<<]\n"
          ],
          "name": "stdout"
        }
      ]
    },
    {
      "cell_type": "code",
      "metadata": {
        "id": "nufnSgyfBCHO",
        "colab_type": "code",
        "colab": {}
      },
      "source": [
        "#tuplas\n",
        "tupla1 = (\"Nome\", 35, \"Endereco\")"
      ],
      "execution_count": 0,
      "outputs": []
    },
    {
      "cell_type": "code",
      "metadata": {
        "id": "rSM1IxqPG3Ia",
        "colab_type": "code",
        "colab": {
          "base_uri": "https://localhost:8080/",
          "height": 34
        },
        "outputId": "fd2870a0-ce17-424f-aba1-2a6f06eddee9"
      },
      "source": [
        "print(tupla1)"
      ],
      "execution_count": 50,
      "outputs": [
        {
          "output_type": "stream",
          "text": [
            "('Nome', 35, 'Endereco')\n"
          ],
          "name": "stdout"
        }
      ]
    },
    {
      "cell_type": "code",
      "metadata": {
        "id": "rG18XtzLJWhx",
        "colab_type": "code",
        "colab": {}
      },
      "source": [
        "#herança e polimorfismo"
      ],
      "execution_count": 0,
      "outputs": []
    },
    {
      "cell_type": "code",
      "metadata": {
        "id": "cADm_DQsNUh4",
        "colab_type": "code",
        "colab": {}
      },
      "source": [
        "from abc import ABCMeta, abstractmethod\n",
        "\n",
        "class Conta(metaclass=ABCMeta):\n",
        "  def __init__(self, codigo):\n",
        "    self._codigo = codigo\n",
        "    self._saldo = 0\n",
        "\n",
        "  def deposita(self, valor):\n",
        "    self._saldo += valor\n",
        "\n",
        "  @abstractmethod\n",
        "  def passa_o_mes(self):\n",
        "    pass\n",
        "\n",
        "  def __str__(self):\n",
        "    return \"[>>Codigo {} Saldo {}<<]\".format(self._codigo, self._saldo)\n",
        "    \n",
        "class ContaCorrente(Conta):\n",
        "  def passa_o_mes(self):\n",
        "    self._saldo -= 2\n",
        "\n",
        "class ContaPoupanca(Conta):\n",
        "  def passa_o_mes(self):\n",
        "    self._saldo *= 1.01\n",
        "    self._saldo -= 3\n",
        "\n",
        "class ContaInvestimento(Conta):\n",
        "  pass"
      ],
      "execution_count": 0,
      "outputs": []
    },
    {
      "cell_type": "code",
      "metadata": {
        "id": "eNAPXVN4N6XR",
        "colab_type": "code",
        "colab": {
          "base_uri": "https://localhost:8080/",
          "height": 34
        },
        "outputId": "e0e07cef-41c2-4a32-f35e-e8b21140f739"
      },
      "source": [
        "conta16 = ContaCorrente(16)\n",
        "conta16.deposita(1000)\n",
        "conta16.passa_o_mes()\n",
        "print(conta16)"
      ],
      "execution_count": 67,
      "outputs": [
        {
          "output_type": "stream",
          "text": [
            "[>>Codigo 16 Saldo 998<<]\n"
          ],
          "name": "stdout"
        }
      ]
    },
    {
      "cell_type": "code",
      "metadata": {
        "id": "bwcoMCb0OFiR",
        "colab_type": "code",
        "colab": {
          "base_uri": "https://localhost:8080/",
          "height": 34
        },
        "outputId": "7cc9b2ed-3527-4c53-bbb1-c51ae3b80191"
      },
      "source": [
        "conta17 = ContaPoupanca(17)\n",
        "conta17.deposita(1000)\n",
        "conta17.passa_o_mes()\n",
        "print(conta17)"
      ],
      "execution_count": 68,
      "outputs": [
        {
          "output_type": "stream",
          "text": [
            "[>>Codigo 17 Saldo 1007.0<<]\n"
          ],
          "name": "stdout"
        }
      ]
    },
    {
      "cell_type": "code",
      "metadata": {
        "id": "XqPzXXbTPNC8",
        "colab_type": "code",
        "colab": {
          "base_uri": "https://localhost:8080/",
          "height": 50
        },
        "outputId": "fff0e887-9203-418c-b7db-a626ed7c900d"
      },
      "source": [
        "contas = [conta16, conta17]\n",
        "for conta in contas:\n",
        "  conta.passa_o_mes() #duck type\n",
        "  print(conta)"
      ],
      "execution_count": 69,
      "outputs": [
        {
          "output_type": "stream",
          "text": [
            "[>>Codigo 16 Saldo 996<<]\n",
            "[>>Codigo 17 Saldo 1014.07<<]\n"
          ],
          "name": "stdout"
        }
      ]
    },
    {
      "cell_type": "markdown",
      "metadata": {
        "id": "PxrefayKP4a-",
        "colab_type": "text"
      },
      "source": [
        "Array evitar usa"
      ]
    },
    {
      "cell_type": "code",
      "metadata": {
        "id": "YfvZI-vQQAdV",
        "colab_type": "code",
        "colab": {
          "base_uri": "https://localhost:8080/",
          "height": 34
        },
        "outputId": "f654e146-2049-48ac-aa87-0ef3948b1b3a"
      },
      "source": [
        "import array as arr\n",
        "\n",
        "arr.array('d', [1.0, 3.5])"
      ],
      "execution_count": 70,
      "outputs": [
        {
          "output_type": "execute_result",
          "data": {
            "text/plain": [
              "array('d', [1.0, 3.5])"
            ]
          },
          "metadata": {
            "tags": []
          },
          "execution_count": 70
        }
      ]
    },
    {
      "cell_type": "code",
      "metadata": {
        "id": "gZYY047EQ3zG",
        "colab_type": "code",
        "colab": {
          "base_uri": "https://localhost:8080/",
          "height": 34
        },
        "outputId": "db11a04d-01a7-4d72-9358-e362c8a03c0e"
      },
      "source": [
        "!pip install numpy\n",
        "import numpy as np\n"
      ],
      "execution_count": 72,
      "outputs": [
        {
          "output_type": "stream",
          "text": [
            "Requirement already satisfied: numpy in /usr/local/lib/python3.6/dist-packages (1.18.3)\n"
          ],
          "name": "stdout"
        }
      ]
    },
    {
      "cell_type": "code",
      "metadata": {
        "id": "59sOhtYORkxV",
        "colab_type": "code",
        "colab": {
          "base_uri": "https://localhost:8080/",
          "height": 34
        },
        "outputId": "4121f03d-07fc-4f03-a53f-d516aeb181c5"
      },
      "source": [
        "numeros = np.array([1, 3.5])\n",
        "numeros + 3"
      ],
      "execution_count": 73,
      "outputs": [
        {
          "output_type": "execute_result",
          "data": {
            "text/plain": [
              "array([4. , 6.5])"
            ]
          },
          "metadata": {
            "tags": []
          },
          "execution_count": 73
        }
      ]
    },
    {
      "cell_type": "code",
      "metadata": {
        "id": "VWPfxLq7R1Z_",
        "colab_type": "code",
        "colab": {}
      },
      "source": [
        "class ContaSalario:\n",
        "  def __init__(self, codigo):\n",
        "    self._codigo = codigo\n",
        "    self._saldo = 0\n",
        "\n",
        "  def __eq__(self, outro):\n",
        "    if type(outro) != ContaSalario:\n",
        "      return False\n",
        "\n",
        "    return self._codigo == outro._codigo and self._saldo == outro._saldo\n",
        "\n",
        "  def __lt__(self, outro):\n",
        "    return self._saldo < outro._saldo\n",
        "\n",
        "  def deposita(self, valor):\n",
        "    self._saldo += valor\n",
        "\n",
        "  def __str__(self):\n",
        "    return \"[>>Codigo {} Saldo {}<<]\".format(self._codigo, self._saldo)"
      ],
      "execution_count": 0,
      "outputs": []
    },
    {
      "cell_type": "code",
      "metadata": {
        "id": "bp5azvWUkbSY",
        "colab_type": "code",
        "colab": {
          "base_uri": "https://localhost:8080/",
          "height": 34
        },
        "outputId": "d31aa950-cb0d-4411-9eca-14608b34825d"
      },
      "source": [
        "conta1 = ContaSalario(37)\n",
        "conta2 = ContaSalario(37)\n",
        "\n",
        "conta1 == conta2 #se pode se tornar true por causa da sobre carga do metodo __eq__"
      ],
      "execution_count": 121,
      "outputs": [
        {
          "output_type": "execute_result",
          "data": {
            "text/plain": [
              "True"
            ]
          },
          "metadata": {
            "tags": []
          },
          "execution_count": 121
        }
      ]
    },
    {
      "cell_type": "code",
      "metadata": {
        "id": "WBc67qj8knKh",
        "colab_type": "code",
        "colab": {
          "base_uri": "https://localhost:8080/",
          "height": 67
        },
        "outputId": "f935dd8d-5190-42c4-a4d6-33b0374a6cc5"
      },
      "source": [
        "conta1.deposita(20)\n",
        "contas = [conta1, conta2]\n",
        "for conta in contas:\n",
        "  print(conta)\n",
        "\n",
        "conta1 == conta2"
      ],
      "execution_count": 122,
      "outputs": [
        {
          "output_type": "stream",
          "text": [
            "[>>Codigo 37 Saldo 20<<]\n",
            "[>>Codigo 37 Saldo 0<<]\n"
          ],
          "name": "stdout"
        },
        {
          "output_type": "execute_result",
          "data": {
            "text/plain": [
              "False"
            ]
          },
          "metadata": {
            "tags": []
          },
          "execution_count": 122
        }
      ]
    },
    {
      "cell_type": "code",
      "metadata": {
        "id": "FbMvr7gInzCs",
        "colab_type": "code",
        "colab": {
          "base_uri": "https://localhost:8080/",
          "height": 134
        },
        "outputId": "49fa5445-cc92-4f68-90a2-f0e812bf3326"
      },
      "source": [
        "idades = [15,87,65,56,32,49,37]\n",
        "\n",
        "for i in range(len(idades)):\n",
        "  print(i, idades[i])"
      ],
      "execution_count": 123,
      "outputs": [
        {
          "output_type": "stream",
          "text": [
            "0 15\n",
            "1 87\n",
            "2 65\n",
            "3 56\n",
            "4 32\n",
            "5 49\n",
            "6 37\n"
          ],
          "name": "stdout"
        }
      ]
    },
    {
      "cell_type": "code",
      "metadata": {
        "id": "obiIRKnMqzRS",
        "colab_type": "code",
        "colab": {
          "base_uri": "https://localhost:8080/",
          "height": 34
        },
        "outputId": "03cf5360-469b-486c-f038-3e90333ae2a6"
      },
      "source": [
        "range(len(idades)) #lazy\n",
        "enumerate(idades) #lazy\n",
        "\n",
        "list(enumerate(idades)) #forca gerar os dados"
      ],
      "execution_count": 124,
      "outputs": [
        {
          "output_type": "execute_result",
          "data": {
            "text/plain": [
              "[(0, 15), (1, 87), (2, 65), (3, 56), (4, 32), (5, 49), (6, 37)]"
            ]
          },
          "metadata": {
            "tags": []
          },
          "execution_count": 124
        }
      ]
    },
    {
      "cell_type": "code",
      "metadata": {
        "id": "1Lmuombwrx0r",
        "colab_type": "code",
        "colab": {
          "base_uri": "https://localhost:8080/",
          "height": 134
        },
        "outputId": "7bc40722-f1ed-4e1d-d6f6-c500015d4bf0"
      },
      "source": [
        "for indice, idade in enumerate(idades):\n",
        "  print(indice, \"x\", idade)"
      ],
      "execution_count": 125,
      "outputs": [
        {
          "output_type": "stream",
          "text": [
            "0 x 15\n",
            "1 x 87\n",
            "2 x 65\n",
            "3 x 56\n",
            "4 x 32\n",
            "5 x 49\n",
            "6 x 37\n"
          ],
          "name": "stdout"
        }
      ]
    },
    {
      "cell_type": "code",
      "metadata": {
        "id": "xazjxWqbsXQ6",
        "colab_type": "code",
        "colab": {
          "base_uri": "https://localhost:8080/",
          "height": 118
        },
        "outputId": "fa9b67ed-8e9c-420a-ea1b-c5cb96b556c1"
      },
      "source": [
        "usuarios = [\n",
        "    (\"Ivo\", 35, 1985),\n",
        "    (\"Paty\", 40, 1980),\n",
        "    (\"Thaty\", 38, 1982)\n",
        "]\n",
        "\n",
        "for nome, idade, ano in usuarios:\n",
        "  print(nome, ano)\n",
        "\n",
        "\n",
        "for nome, _, _ in usuarios: # o _ mostra que nao sera usado o valor\n",
        "  print(nome)\n",
        "  "
      ],
      "execution_count": 126,
      "outputs": [
        {
          "output_type": "stream",
          "text": [
            "Ivo 1985\n",
            "Paty 1980\n",
            "Thaty 1982\n",
            "Ivo\n",
            "Paty\n",
            "Thaty\n"
          ],
          "name": "stdout"
        }
      ]
    },
    {
      "cell_type": "code",
      "metadata": {
        "id": "0CIBjO9xtAK3",
        "colab_type": "code",
        "colab": {
          "base_uri": "https://localhost:8080/",
          "height": 34
        },
        "outputId": "0d6fe5bc-14c8-4e54-f3cb-4404f49aeac2"
      },
      "source": [
        "sorted(idades) #ordenacao"
      ],
      "execution_count": 127,
      "outputs": [
        {
          "output_type": "execute_result",
          "data": {
            "text/plain": [
              "[15, 32, 37, 49, 56, 65, 87]"
            ]
          },
          "metadata": {
            "tags": []
          },
          "execution_count": 127
        }
      ]
    },
    {
      "cell_type": "code",
      "metadata": {
        "id": "PTvNfhfBtvxd",
        "colab_type": "code",
        "colab": {
          "base_uri": "https://localhost:8080/",
          "height": 34
        },
        "outputId": "b7b2ba42-576e-40b2-8c51-1d61bb23b877"
      },
      "source": [
        "sorted(idades, reverse=True) #order desc"
      ],
      "execution_count": 128,
      "outputs": [
        {
          "output_type": "execute_result",
          "data": {
            "text/plain": [
              "[87, 65, 56, 49, 37, 32, 15]"
            ]
          },
          "metadata": {
            "tags": []
          },
          "execution_count": 128
        }
      ]
    },
    {
      "cell_type": "code",
      "metadata": {
        "id": "_vnXvb7xt3M5",
        "colab_type": "code",
        "colab": {
          "base_uri": "https://localhost:8080/",
          "height": 34
        },
        "outputId": "c2257df3-9f0c-4e24-cd18-4228ea71c3cf"
      },
      "source": [
        "list(reversed(sorted(idades))) #outra forma de order desc"
      ],
      "execution_count": 129,
      "outputs": [
        {
          "output_type": "execute_result",
          "data": {
            "text/plain": [
              "[87, 65, 56, 49, 37, 32, 15]"
            ]
          },
          "metadata": {
            "tags": []
          },
          "execution_count": 129
        }
      ]
    },
    {
      "cell_type": "code",
      "metadata": {
        "id": "9j9NtkP3uSOv",
        "colab_type": "code",
        "colab": {}
      },
      "source": [
        "conta_guilherme = ContaSalario(17)\n",
        "conta_guilherme.deposita(500)\n",
        "\n",
        "conta_daniela = ContaSalario(3)\n",
        "conta_daniela.deposita(1000)\n",
        "\n",
        "conta_paulo = ContaSalario(133)\n",
        "conta_paulo.deposita(510)\n",
        "\n",
        "contas = [conta_guilherme, conta_daniela, conta_paulo]"
      ],
      "execution_count": 0,
      "outputs": []
    },
    {
      "cell_type": "code",
      "metadata": {
        "id": "is0b1RNrw-e8",
        "colab_type": "code",
        "colab": {
          "base_uri": "https://localhost:8080/",
          "height": 67
        },
        "outputId": "34179b41-1493-4533-fe56-3ed90d2f9795"
      },
      "source": [
        "from operator import attrgetter\n",
        "\n",
        "sorted(contas, key=attrgetter(\"_saldo\")) #atributo mais proximo do correto para ordernar  baseado em propriedades privadas sem implementar __lt__"
      ],
      "execution_count": 134,
      "outputs": [
        {
          "output_type": "execute_result",
          "data": {
            "text/plain": [
              "[<__main__.ContaSalario at 0x7f491e53eba8>,\n",
              " <__main__.ContaSalario at 0x7f491e53e2e8>,\n",
              " <__main__.ContaSalario at 0x7f491e53e048>]"
            ]
          },
          "metadata": {
            "tags": []
          },
          "execution_count": 134
        }
      ]
    },
    {
      "cell_type": "code",
      "metadata": {
        "id": "vIA9a2rdxPKE",
        "colab_type": "code",
        "colab": {
          "base_uri": "https://localhost:8080/",
          "height": 34
        },
        "outputId": "7f6ed9ad-e2e3-45ce-f2a9-0bccaa2714e0"
      },
      "source": [
        "conta_guilherme < conta_daniela"
      ],
      "execution_count": 132,
      "outputs": [
        {
          "output_type": "execute_result",
          "data": {
            "text/plain": [
              "True"
            ]
          },
          "metadata": {
            "tags": []
          },
          "execution_count": 132
        }
      ]
    },
    {
      "cell_type": "code",
      "metadata": {
        "id": "w169EZYP1DVy",
        "colab_type": "code",
        "colab": {}
      },
      "source": [
        "from functools import total_ordering\n",
        "\n",
        "@total_ordering\n",
        "class ContaSalario:\n",
        "  def __init__(self, codigo):\n",
        "    self._codigo = codigo\n",
        "    self._saldo = 0\n",
        "\n",
        "  def __eq__(self, outro):\n",
        "    if type(outro) != ContaSalario:\n",
        "      return False\n",
        "\n",
        "    return self._codigo == outro._codigo and self._saldo == outro._saldo\n",
        "\n",
        "  def __lt__(self, outro):\n",
        "    if self._saldo != outro._saldo:\n",
        "      return self._saldo < outro._saldo\n",
        "\n",
        "    return saldo._codigo < outro._codigo\n",
        "\n",
        "  def deposita(self, valor):\n",
        "    self._saldo += valor\n",
        "\n",
        "  def __str__(self):\n",
        "    return \"[>>Codigo {} Saldo {}<<]\".format(self._codigo, self._saldo)"
      ],
      "execution_count": 0,
      "outputs": []
    },
    {
      "cell_type": "code",
      "metadata": {
        "id": "UPZFcjEr3ERT",
        "colab_type": "code",
        "colab": {}
      },
      "source": [
        "conta_guilherme = ContaSalario(17)\n",
        "conta_guilherme.deposita(500)\n",
        "\n",
        "conta_daniela = ContaSalario(3)\n",
        "conta_daniela.deposita(1000)\n",
        "\n",
        "conta_paulo = ContaSalario(133)\n",
        "conta_paulo.deposita(510)\n",
        "\n",
        "contas = [conta_guilherme, conta_daniela, conta_paulo]"
      ],
      "execution_count": 0,
      "outputs": []
    },
    {
      "cell_type": "code",
      "metadata": {
        "id": "-DVXDbRf3Jwh",
        "colab_type": "code",
        "colab": {
          "base_uri": "https://localhost:8080/",
          "height": 34
        },
        "outputId": "e41a0941-eec8-458f-90bb-ed19e662fa13"
      },
      "source": [
        "conta_guilherme <= conta_daniela"
      ],
      "execution_count": 144,
      "outputs": [
        {
          "output_type": "execute_result",
          "data": {
            "text/plain": [
              "True"
            ]
          },
          "metadata": {
            "tags": []
          },
          "execution_count": 144
        }
      ]
    },
    {
      "cell_type": "code",
      "metadata": {
        "id": "VBnCOASS3M06",
        "colab_type": "code",
        "colab": {
          "base_uri": "https://localhost:8080/",
          "height": 67
        },
        "outputId": "5fae2a13-8e09-4e1e-9292-ebc3e099f5ac"
      },
      "source": [
        "for conta in sorted(contas):\n",
        "  print(conta)"
      ],
      "execution_count": 145,
      "outputs": [
        {
          "output_type": "stream",
          "text": [
            "[>>Codigo 17 Saldo 500<<]\n",
            "[>>Codigo 133 Saldo 510<<]\n",
            "[>>Codigo 3 Saldo 1000<<]\n"
          ],
          "name": "stdout"
        }
      ]
    },
    {
      "cell_type": "code",
      "metadata": {
        "id": "ova5t3T-3R_E",
        "colab_type": "code",
        "colab": {}
      },
      "source": [
        ""
      ],
      "execution_count": 0,
      "outputs": []
    }
  ]
}