{
  "nbformat": 4,
  "nbformat_minor": 0,
  "metadata": {
    "colab": {
      "name": "Collections continuacao.ipynb",
      "provenance": []
    },
    "kernelspec": {
      "name": "python3",
      "display_name": "Python 3"
    }
  },
  "cells": [
    {
      "cell_type": "code",
      "metadata": {
        "id": "0-IDLNOa_vC0",
        "colab_type": "code",
        "colab": {}
      },
      "source": [
        "usuarios_data_science = [15,23,43,56]\n",
        "usuarios_machine_learning = [13,23,56,42]"
      ],
      "execution_count": 0,
      "outputs": []
    },
    {
      "cell_type": "code",
      "metadata": {
        "id": "KvlnCKiLA-0l",
        "colab_type": "code",
        "colab": {
          "base_uri": "https://localhost:8080/",
          "height": 34
        },
        "outputId": "316a8f91-3125-40b3-c827-2072a420190b"
      },
      "source": [
        "assistiram = usuarios_machine_learning.copy()\n",
        "\n",
        "##adiciona os itens diferentes\n",
        "assistiram.extend(usuarios_data_science)\n",
        "set(assistiram) "
      ],
      "execution_count": 3,
      "outputs": [
        {
          "output_type": "execute_result",
          "data": {
            "text/plain": [
              "{13, 15, 23, 42, 43, 56}"
            ]
          },
          "metadata": {
            "tags": []
          },
          "execution_count": 3
        }
      ]
    },
    {
      "cell_type": "code",
      "metadata": {
        "id": "xELYVtFaCYpG",
        "colab_type": "code",
        "colab": {
          "base_uri": "https://localhost:8080/",
          "height": 118
        },
        "outputId": "4f982e95-9ec8-489a-b038-f4284afba84d"
      },
      "source": [
        "for usuario in set(assistiram):\n",
        "  print(usuario)"
      ],
      "execution_count": 6,
      "outputs": [
        {
          "output_type": "stream",
          "text": [
            "42\n",
            "43\n",
            "13\n",
            "15\n",
            "23\n",
            "56\n"
          ],
          "name": "stdout"
        }
      ]
    },
    {
      "cell_type": "code",
      "metadata": {
        "id": "bQo3Uxu1E3c2",
        "colab_type": "code",
        "colab": {
          "base_uri": "https://localhost:8080/",
          "height": 34
        },
        "outputId": "cd385c4e-684c-40f8-a14d-b3bb8588a1e3"
      },
      "source": [
        "# uniao\n",
        "\n",
        "usuarios_data_science = {15,23,43,56}\n",
        "usuarios_machine_learning = {13,23,56,42}\n",
        "\n",
        "usuarios_data_science | usuarios_machine_learning"
      ],
      "execution_count": 8,
      "outputs": [
        {
          "output_type": "execute_result",
          "data": {
            "text/plain": [
              "{13, 15, 23, 42, 43, 56}"
            ]
          },
          "metadata": {
            "tags": []
          },
          "execution_count": 8
        }
      ]
    },
    {
      "cell_type": "code",
      "metadata": {
        "id": "obtIDztuHELH",
        "colab_type": "code",
        "colab": {
          "base_uri": "https://localhost:8080/",
          "height": 34
        },
        "outputId": "2a79f865-b904-495d-8a62-a730052e557e"
      },
      "source": [
        "# E\n",
        "\n",
        "usuarios_data_science = {15,23,43,56}\n",
        "usuarios_machine_learning = {13,23,56,42}\n",
        "\n",
        "usuarios_data_science & usuarios_machine_learning"
      ],
      "execution_count": 9,
      "outputs": [
        {
          "output_type": "execute_result",
          "data": {
            "text/plain": [
              "{23, 56}"
            ]
          },
          "metadata": {
            "tags": []
          },
          "execution_count": 9
        }
      ]
    },
    {
      "cell_type": "code",
      "metadata": {
        "id": "mv51Y7CtJZKU",
        "colab_type": "code",
        "colab": {
          "base_uri": "https://localhost:8080/",
          "height": 34
        },
        "outputId": "bbac9e43-dfc1-47b1-f1e4-ec7ea96a5801"
      },
      "source": [
        "# que esta em um mas nao esta em outro \n",
        "\n",
        "usuarios_data_science = {15,23,43,56}\n",
        "usuarios_machine_learning = {13,23,56,42}\n",
        "\n",
        "usuarios_data_science - usuarios_machine_learning"
      ],
      "execution_count": 10,
      "outputs": [
        {
          "output_type": "execute_result",
          "data": {
            "text/plain": [
              "{15, 43}"
            ]
          },
          "metadata": {
            "tags": []
          },
          "execution_count": 10
        }
      ]
    },
    {
      "cell_type": "code",
      "metadata": {
        "id": "-jIQPg_nJcbR",
        "colab_type": "code",
        "colab": {
          "base_uri": "https://localhost:8080/",
          "height": 34
        },
        "outputId": "eaabb374-a40c-45bc-d702-b0bc76787373"
      },
      "source": [
        "# ou exclusivo\n",
        "\n",
        "usuarios_data_science = {15,23,43,56}\n",
        "usuarios_machine_learning = {13,23,56,42}\n",
        "\n",
        "usuarios_data_science ^ usuarios_machine_learning"
      ],
      "execution_count": 11,
      "outputs": [
        {
          "output_type": "execute_result",
          "data": {
            "text/plain": [
              "{13, 15, 42, 43}"
            ]
          },
          "metadata": {
            "tags": []
          },
          "execution_count": 11
        }
      ]
    },
    {
      "cell_type": "code",
      "metadata": {
        "id": "ZnxkzWMIKAwB",
        "colab_type": "code",
        "colab": {
          "base_uri": "https://localhost:8080/",
          "height": 34
        },
        "outputId": "29106999-a3de-4ea8-f476-9f1da3e0ee2c"
      },
      "source": [
        "usuarios = {1,5,76,34,52,13,17}\n",
        "len(usuarios)"
      ],
      "execution_count": 12,
      "outputs": [
        {
          "output_type": "execute_result",
          "data": {
            "text/plain": [
              "7"
            ]
          },
          "metadata": {
            "tags": []
          },
          "execution_count": 12
        }
      ]
    },
    {
      "cell_type": "code",
      "metadata": {
        "id": "_NdDUKRwKxdA",
        "colab_type": "code",
        "colab": {
          "base_uri": "https://localhost:8080/",
          "height": 34
        },
        "outputId": "699af9f4-9dab-4bab-d940-211354478c85"
      },
      "source": [
        "usuarios.add(13)\n",
        "len(usuarios)"
      ],
      "execution_count": 14,
      "outputs": [
        {
          "output_type": "execute_result",
          "data": {
            "text/plain": [
              "7"
            ]
          },
          "metadata": {
            "tags": []
          },
          "execution_count": 14
        }
      ]
    },
    {
      "cell_type": "code",
      "metadata": {
        "id": "hp0R3kdmK05X",
        "colab_type": "code",
        "colab": {
          "base_uri": "https://localhost:8080/",
          "height": 34
        },
        "outputId": "5276bfbf-043d-432f-9197-dfccdaf4e212"
      },
      "source": [
        "usuarios.add(765)\n",
        "len(usuarios)"
      ],
      "execution_count": 16,
      "outputs": [
        {
          "output_type": "execute_result",
          "data": {
            "text/plain": [
              "8"
            ]
          },
          "metadata": {
            "tags": []
          },
          "execution_count": 16
        }
      ]
    },
    {
      "cell_type": "code",
      "metadata": {
        "id": "4oCQCDKyLG_T",
        "colab_type": "code",
        "colab": {
          "base_uri": "https://localhost:8080/",
          "height": 34
        },
        "outputId": "3dab9905-2130-401c-e0ec-b0b1dc0e936f"
      },
      "source": [
        "usuarios = frozenset(usuarios) ##congela os conjuntos, nao deixa ele ser alterado\n",
        "type(usuarios)"
      ],
      "execution_count": 17,
      "outputs": [
        {
          "output_type": "execute_result",
          "data": {
            "text/plain": [
              "frozenset"
            ]
          },
          "metadata": {
            "tags": []
          },
          "execution_count": 17
        }
      ]
    },
    {
      "cell_type": "code",
      "metadata": {
        "id": "RPuaOEs0LY9U",
        "colab_type": "code",
        "colab": {
          "base_uri": "https://localhost:8080/",
          "height": 437
        },
        "outputId": "99879bd3-0094-4187-b7d4-f2f2aa4f72e4"
      },
      "source": [
        "texto = \"Eu tenho um gato peluto que solta muito pelo, ele adora subir no notebook quando estou em reuniao ou seja eh um gato muito safado\"\n",
        "texto.split()"
      ],
      "execution_count": 19,
      "outputs": [
        {
          "output_type": "execute_result",
          "data": {
            "text/plain": [
              "['Eu',\n",
              " 'tenho',\n",
              " 'um',\n",
              " 'gato',\n",
              " 'peluto',\n",
              " 'que',\n",
              " 'solta',\n",
              " 'muito',\n",
              " 'pelo,',\n",
              " 'ele',\n",
              " 'adora',\n",
              " 'subir',\n",
              " 'no',\n",
              " 'notebook',\n",
              " 'quando',\n",
              " 'estou',\n",
              " 'em',\n",
              " 'reuniao',\n",
              " 'ou',\n",
              " 'seja',\n",
              " 'eh',\n",
              " 'um',\n",
              " 'gato',\n",
              " 'muito',\n",
              " 'safado']"
            ]
          },
          "metadata": {
            "tags": []
          },
          "execution_count": 19
        }
      ]
    },
    {
      "cell_type": "code",
      "metadata": {
        "id": "zGl2AF3RMgl5",
        "colab_type": "code",
        "colab": {
          "base_uri": "https://localhost:8080/",
          "height": 386
        },
        "outputId": "cbb27795-d8b8-419c-c1dd-964db7baf8b4"
      },
      "source": [
        "set(texto.split()) #conjuntos em texto"
      ],
      "execution_count": 21,
      "outputs": [
        {
          "output_type": "execute_result",
          "data": {
            "text/plain": [
              "{'Eu',\n",
              " 'adora',\n",
              " 'eh',\n",
              " 'ele',\n",
              " 'em',\n",
              " 'estou',\n",
              " 'gato',\n",
              " 'muito',\n",
              " 'no',\n",
              " 'notebook',\n",
              " 'ou',\n",
              " 'pelo,',\n",
              " 'peluto',\n",
              " 'quando',\n",
              " 'que',\n",
              " 'reuniao',\n",
              " 'safado',\n",
              " 'seja',\n",
              " 'solta',\n",
              " 'subir',\n",
              " 'tenho',\n",
              " 'um'}"
            ]
          },
          "metadata": {
            "tags": []
          },
          "execution_count": 21
        }
      ]
    },
    {
      "cell_type": "code",
      "metadata": {
        "id": "i7xZZyIzNx4O",
        "colab_type": "code",
        "colab": {
          "base_uri": "https://localhost:8080/",
          "height": 34
        },
        "outputId": "585a59d4-a7e7-4a97-aeed-ffb4c6eece6b"
      },
      "source": [
        "aparicoes = {\n",
        "    \"Gato\" : 3,\n",
        "    \"peludo\" : 2,\n",
        "    \"apronta\": 1\n",
        "}\n",
        "\n",
        "type(aparicoes)"
      ],
      "execution_count": 22,
      "outputs": [
        {
          "output_type": "execute_result",
          "data": {
            "text/plain": [
              "dict"
            ]
          },
          "metadata": {
            "tags": []
          },
          "execution_count": 22
        }
      ]
    },
    {
      "cell_type": "code",
      "metadata": {
        "id": "Q4zdIP8iOsvz",
        "colab_type": "code",
        "colab": {
          "base_uri": "https://localhost:8080/",
          "height": 34
        },
        "outputId": "fbb5d630-c26c-48fd-cea2-4ffd35970466"
      },
      "source": [
        "aparicoes.get(\"Gato\", 0)"
      ],
      "execution_count": 25,
      "outputs": [
        {
          "output_type": "execute_result",
          "data": {
            "text/plain": [
              "3"
            ]
          },
          "metadata": {
            "tags": []
          },
          "execution_count": 25
        }
      ]
    },
    {
      "cell_type": "code",
      "metadata": {
        "id": "mD3uqE91O3Ny",
        "colab_type": "code",
        "colab": {
          "base_uri": "https://localhost:8080/",
          "height": 34
        },
        "outputId": "15b6c321-87d5-4e45-c4fe-2a143097847e"
      },
      "source": [
        "aparicoes.get(\"gato\", 0) #se nao encontrar retorna 0"
      ],
      "execution_count": 26,
      "outputs": [
        {
          "output_type": "execute_result",
          "data": {
            "text/plain": [
              "0"
            ]
          },
          "metadata": {
            "tags": []
          },
          "execution_count": 26
        }
      ]
    },
    {
      "cell_type": "code",
      "metadata": {
        "id": "uhfbmObRO-mS",
        "colab_type": "code",
        "colab": {}
      },
      "source": [
        "aparicoes_v2 = dict(Guilherme = 2, Gto =1)#outra forma de cadastrar discionarios"
      ],
      "execution_count": 0,
      "outputs": []
    },
    {
      "cell_type": "code",
      "metadata": {
        "id": "2j1f9UQdPH-y",
        "colab_type": "code",
        "colab": {}
      },
      "source": [
        "aparicoes = {\n",
        "    \"Gato\" : 3,\n",
        "    \"peludo\" : 2,\n",
        "    \"apronta\": 1\n",
        "}"
      ],
      "execution_count": 0,
      "outputs": []
    },
    {
      "cell_type": "code",
      "metadata": {
        "id": "Z5sBC0mLPe97",
        "colab_type": "code",
        "colab": {}
      },
      "source": [
        "aparicoes[\"Peluda\"] = 3"
      ],
      "execution_count": 0,
      "outputs": []
    },
    {
      "cell_type": "code",
      "metadata": {
        "id": "iEgFgNkWPicH",
        "colab_type": "code",
        "colab": {
          "base_uri": "https://localhost:8080/",
          "height": 34
        },
        "outputId": "549eff78-90ef-4a8e-aa77-638f317b83a9"
      },
      "source": [
        "aparicoes"
      ],
      "execution_count": 30,
      "outputs": [
        {
          "output_type": "execute_result",
          "data": {
            "text/plain": [
              "{'Gato': 3, 'Peluda': 3, 'apronta': 1, 'peludo': 2}"
            ]
          },
          "metadata": {
            "tags": []
          },
          "execution_count": 30
        }
      ]
    },
    {
      "cell_type": "code",
      "metadata": {
        "id": "fBs4qbvbPjSm",
        "colab_type": "code",
        "colab": {
          "base_uri": "https://localhost:8080/",
          "height": 178
        },
        "outputId": "ed0e5f9f-4168-442a-d5cb-206c025517d0"
      },
      "source": [
        "del aparicoes[\"apronta\"] ## remove \n",
        "aparicoes"
      ],
      "execution_count": 32,
      "outputs": [
        {
          "output_type": "error",
          "ename": "KeyError",
          "evalue": "ignored",
          "traceback": [
            "\u001b[0;31m---------------------------------------------------------------------------\u001b[0m",
            "\u001b[0;31mKeyError\u001b[0m                                  Traceback (most recent call last)",
            "\u001b[0;32m<ipython-input-32-7d2aefbade6c>\u001b[0m in \u001b[0;36m<module>\u001b[0;34m()\u001b[0m\n\u001b[0;32m----> 1\u001b[0;31m \u001b[0;32mdel\u001b[0m \u001b[0maparicoes\u001b[0m\u001b[0;34m[\u001b[0m\u001b[0;34m\"apronta\"\u001b[0m\u001b[0;34m]\u001b[0m\u001b[0;34m\u001b[0m\u001b[0;34m\u001b[0m\u001b[0m\n\u001b[0m\u001b[1;32m      2\u001b[0m \u001b[0maparicoes\u001b[0m\u001b[0;34m\u001b[0m\u001b[0;34m\u001b[0m\u001b[0m\n",
            "\u001b[0;31mKeyError\u001b[0m: 'apronta'"
          ]
        }
      ]
    },
    {
      "cell_type": "code",
      "metadata": {
        "id": "meOt1VBEPpQH",
        "colab_type": "code",
        "colab": {
          "base_uri": "https://localhost:8080/",
          "height": 34
        },
        "outputId": "0580f217-cb98-4f7d-d426-5b233e380080"
      },
      "source": [
        "\"Gato\" in aparicoes #verifica se esta no elemento"
      ],
      "execution_count": 33,
      "outputs": [
        {
          "output_type": "execute_result",
          "data": {
            "text/plain": [
              "True"
            ]
          },
          "metadata": {
            "tags": []
          },
          "execution_count": 33
        }
      ]
    },
    {
      "cell_type": "code",
      "metadata": {
        "id": "SaEuW_MXPwiF",
        "colab_type": "code",
        "colab": {
          "base_uri": "https://localhost:8080/",
          "height": 67
        },
        "outputId": "4f2c17cb-e1f1-4aba-f2c3-5a0bf0847795"
      },
      "source": [
        "for i in aparicoes:\n",
        "  print(i)"
      ],
      "execution_count": 34,
      "outputs": [
        {
          "output_type": "stream",
          "text": [
            "Gato\n",
            "peludo\n",
            "Peluda\n"
          ],
          "name": "stdout"
        }
      ]
    },
    {
      "cell_type": "code",
      "metadata": {
        "id": "TJKKi6hFP36W",
        "colab_type": "code",
        "colab": {
          "base_uri": "https://localhost:8080/",
          "height": 67
        },
        "outputId": "d70d9449-bb5a-4eea-b35d-57db72e29a9b"
      },
      "source": [
        "for i in aparicoes.items():\n",
        "  print(i)"
      ],
      "execution_count": 38,
      "outputs": [
        {
          "output_type": "stream",
          "text": [
            "('Gato', 3)\n",
            "('peludo', 2)\n",
            "('Peluda', 3)\n"
          ],
          "name": "stdout"
        }
      ]
    },
    {
      "cell_type": "code",
      "metadata": {
        "id": "dc15vC7STOpO",
        "colab_type": "code",
        "colab": {
          "base_uri": "https://localhost:8080/",
          "height": 67
        },
        "outputId": "ee56686c-c886-4654-f13d-b77c9ce89a31"
      },
      "source": [
        "for i in aparicoes:\n",
        "  print(aparicoes[i])"
      ],
      "execution_count": 37,
      "outputs": [
        {
          "output_type": "stream",
          "text": [
            "3\n",
            "2\n",
            "3\n"
          ],
          "name": "stdout"
        }
      ]
    },
    {
      "cell_type": "code",
      "metadata": {
        "id": "pv-Y4XKUTRQz",
        "colab_type": "code",
        "colab": {
          "base_uri": "https://localhost:8080/",
          "height": 67
        },
        "outputId": "67f758b3-ceba-4074-8d96-01bbe8400d67"
      },
      "source": [
        "for i in aparicoes:\n",
        "  print(i, aparicoes[i])"
      ],
      "execution_count": 39,
      "outputs": [
        {
          "output_type": "stream",
          "text": [
            "Gato 3\n",
            "peludo 2\n",
            "Peluda 3\n"
          ],
          "name": "stdout"
        }
      ]
    },
    {
      "cell_type": "code",
      "metadata": {
        "id": "K8Q5Y14FUFXD",
        "colab_type": "code",
        "colab": {
          "base_uri": "https://localhost:8080/",
          "height": 67
        },
        "outputId": "2ff262d0-86da-4858-f099-5bf6561b0206"
      },
      "source": [
        "for chave, valor in aparicoes.items():\n",
        "  print(chave, \"=\", valor)"
      ],
      "execution_count": 40,
      "outputs": [
        {
          "output_type": "stream",
          "text": [
            "Gato = 3\n",
            "peludo = 2\n",
            "Peluda = 3\n"
          ],
          "name": "stdout"
        }
      ]
    },
    {
      "cell_type": "code",
      "metadata": {
        "id": "3TTwXKuFVD49",
        "colab_type": "code",
        "colab": {
          "base_uri": "https://localhost:8080/",
          "height": 34
        },
        "outputId": "84b8305b-8e87-44c9-f7b4-1d1e4394f4c8"
      },
      "source": [
        "texto = \"Eu tenho um gato peluto que solta muito pelo, ele adora subir no notebook quando estou em reuniao ou seja eh um gato muito safado\"\n",
        "texto.lower()"
      ],
      "execution_count": 41,
      "outputs": [
        {
          "output_type": "execute_result",
          "data": {
            "text/plain": [
              "'eu tenho um gato peluto que solta muito pelo, ele adora subir no notebook quando estou em reuniao ou seja eh um gato muito safado'"
            ]
          },
          "metadata": {
            "tags": []
          },
          "execution_count": 41
        }
      ]
    },
    {
      "cell_type": "code",
      "metadata": {
        "id": "-Ons9Dv6Zs3U",
        "colab_type": "code",
        "colab": {
          "base_uri": "https://localhost:8080/",
          "height": 386
        },
        "outputId": "96e66cbf-1748-4604-b4b7-56feab6f85d2"
      },
      "source": [
        "aparicoes = {}\n",
        "\n",
        "for palavra in texto.split():\n",
        "  ate_agora = aparicoes.get(palavra, 0)\n",
        "  aparicoes[palavra] = ate_agora + 1\n",
        "\n",
        "aparicoes"
      ],
      "execution_count": 44,
      "outputs": [
        {
          "output_type": "execute_result",
          "data": {
            "text/plain": [
              "{'Eu': 1,\n",
              " 'adora': 1,\n",
              " 'eh': 1,\n",
              " 'ele': 1,\n",
              " 'em': 1,\n",
              " 'estou': 1,\n",
              " 'gato': 2,\n",
              " 'muito': 2,\n",
              " 'no': 1,\n",
              " 'notebook': 1,\n",
              " 'ou': 1,\n",
              " 'pelo,': 1,\n",
              " 'peluto': 1,\n",
              " 'quando': 1,\n",
              " 'que': 1,\n",
              " 'reuniao': 1,\n",
              " 'safado': 1,\n",
              " 'seja': 1,\n",
              " 'solta': 1,\n",
              " 'subir': 1,\n",
              " 'tenho': 1,\n",
              " 'um': 2}"
            ]
          },
          "metadata": {
            "tags": []
          },
          "execution_count": 44
        }
      ]
    },
    {
      "cell_type": "code",
      "metadata": {
        "id": "i_va2iyyaBw7",
        "colab_type": "code",
        "colab": {
          "base_uri": "https://localhost:8080/",
          "height": 403
        },
        "outputId": "9f3b4ee0-18a5-4667-ce9c-e5f3520063e0"
      },
      "source": [
        "from collections import defaultdict\n",
        "\n",
        "aparicoes = defaultdict(int) # ele implenta o dicionario padrao, quando nao encontrar a palavra ele retorna 0\n",
        "\n",
        "for palavra in texto.split():\n",
        "  aparicoes[palavra] += 1\n",
        "\n",
        "aparicoes"
      ],
      "execution_count": 47,
      "outputs": [
        {
          "output_type": "execute_result",
          "data": {
            "text/plain": [
              "defaultdict(int,\n",
              "            {'Eu': 1,\n",
              "             'adora': 1,\n",
              "             'eh': 1,\n",
              "             'ele': 1,\n",
              "             'em': 1,\n",
              "             'estou': 1,\n",
              "             'gato': 2,\n",
              "             'muito': 2,\n",
              "             'no': 1,\n",
              "             'notebook': 1,\n",
              "             'ou': 1,\n",
              "             'pelo,': 1,\n",
              "             'peluto': 1,\n",
              "             'quando': 1,\n",
              "             'que': 1,\n",
              "             'reuniao': 1,\n",
              "             'safado': 1,\n",
              "             'seja': 1,\n",
              "             'solta': 1,\n",
              "             'subir': 1,\n",
              "             'tenho': 1,\n",
              "             'um': 2})"
            ]
          },
          "metadata": {
            "tags": []
          },
          "execution_count": 47
        }
      ]
    },
    {
      "cell_type": "code",
      "metadata": {
        "id": "5E4KZ3g6cZID",
        "colab_type": "code",
        "colab": {}
      },
      "source": [
        "class Conta:\n",
        "  def __init__(self):\n",
        "    print(\"Imprimindo uma conta\")"
      ],
      "execution_count": 0,
      "outputs": []
    },
    {
      "cell_type": "code",
      "metadata": {
        "id": "lOQgJzsvc2xe",
        "colab_type": "code",
        "colab": {}
      },
      "source": [
        "contas = defaultdict(Conta)"
      ],
      "execution_count": 0,
      "outputs": []
    },
    {
      "cell_type": "code",
      "metadata": {
        "id": "EjJY77S2c6AY",
        "colab_type": "code",
        "colab": {
          "base_uri": "https://localhost:8080/",
          "height": 50
        },
        "outputId": "2c713f97-60e7-4048-c45a-0a92af75d07b"
      },
      "source": [
        "contas[15]"
      ],
      "execution_count": 51,
      "outputs": [
        {
          "output_type": "stream",
          "text": [
            "Imprimindo uma conta\n"
          ],
          "name": "stdout"
        },
        {
          "output_type": "execute_result",
          "data": {
            "text/plain": [
              "<__main__.Conta at 0x7f09d17615f8>"
            ]
          },
          "metadata": {
            "tags": []
          },
          "execution_count": 51
        }
      ]
    },
    {
      "cell_type": "code",
      "metadata": {
        "id": "GPZBnQg1c_Z_",
        "colab_type": "code",
        "colab": {
          "base_uri": "https://localhost:8080/",
          "height": 50
        },
        "outputId": "dc178860-fdd8-499e-b27b-77a01ee26176"
      },
      "source": [
        "contas[17]"
      ],
      "execution_count": 53,
      "outputs": [
        {
          "output_type": "stream",
          "text": [
            "Imprimindo uma conta\n"
          ],
          "name": "stdout"
        },
        {
          "output_type": "execute_result",
          "data": {
            "text/plain": [
              "<__main__.Conta at 0x7f09d1761898>"
            ]
          },
          "metadata": {
            "tags": []
          },
          "execution_count": 53
        }
      ]
    },
    {
      "cell_type": "code",
      "metadata": {
        "id": "SzN5JORGdB-2",
        "colab_type": "code",
        "colab": {
          "base_uri": "https://localhost:8080/",
          "height": 34
        },
        "outputId": "e85939d9-9d86-443f-be38-f9598c1dfc69"
      },
      "source": [
        "contas[15]"
      ],
      "execution_count": 54,
      "outputs": [
        {
          "output_type": "execute_result",
          "data": {
            "text/plain": [
              "<__main__.Conta at 0x7f09d17615f8>"
            ]
          },
          "metadata": {
            "tags": []
          },
          "execution_count": 54
        }
      ]
    },
    {
      "cell_type": "code",
      "metadata": {
        "id": "aT9GcS2mdFT2",
        "colab_type": "code",
        "colab": {
          "base_uri": "https://localhost:8080/",
          "height": 386
        },
        "outputId": "ec8fb348-e824-48aa-9722-af2d012c9fc7"
      },
      "source": [
        "from collections import Counter\n",
        "\n",
        "aparicoes = Counter()\n",
        "for palavra in texto.split():\n",
        "  aparicoes[palavra] += 1\n",
        "\n",
        "aparicoes"
      ],
      "execution_count": 57,
      "outputs": [
        {
          "output_type": "execute_result",
          "data": {
            "text/plain": [
              "Counter({'Eu': 1,\n",
              "         'adora': 1,\n",
              "         'eh': 1,\n",
              "         'ele': 1,\n",
              "         'em': 1,\n",
              "         'estou': 1,\n",
              "         'gato': 2,\n",
              "         'muito': 2,\n",
              "         'no': 1,\n",
              "         'notebook': 1,\n",
              "         'ou': 1,\n",
              "         'pelo,': 1,\n",
              "         'peluto': 1,\n",
              "         'quando': 1,\n",
              "         'que': 1,\n",
              "         'reuniao': 1,\n",
              "         'safado': 1,\n",
              "         'seja': 1,\n",
              "         'solta': 1,\n",
              "         'subir': 1,\n",
              "         'tenho': 1,\n",
              "         'um': 2})"
            ]
          },
          "metadata": {
            "tags": []
          },
          "execution_count": 57
        }
      ]
    },
    {
      "cell_type": "code",
      "metadata": {
        "id": "X1SmbZ8ddvlM",
        "colab_type": "code",
        "colab": {
          "base_uri": "https://localhost:8080/",
          "height": 386
        },
        "outputId": "6874ac49-1817-41d3-96e4-7830308171bd"
      },
      "source": [
        "aparicoes = Counter(texto.split())\n",
        "aparicoes"
      ],
      "execution_count": 58,
      "outputs": [
        {
          "output_type": "execute_result",
          "data": {
            "text/plain": [
              "Counter({'Eu': 1,\n",
              "         'adora': 1,\n",
              "         'eh': 1,\n",
              "         'ele': 1,\n",
              "         'em': 1,\n",
              "         'estou': 1,\n",
              "         'gato': 2,\n",
              "         'muito': 2,\n",
              "         'no': 1,\n",
              "         'notebook': 1,\n",
              "         'ou': 1,\n",
              "         'pelo,': 1,\n",
              "         'peluto': 1,\n",
              "         'quando': 1,\n",
              "         'que': 1,\n",
              "         'reuniao': 1,\n",
              "         'safado': 1,\n",
              "         'seja': 1,\n",
              "         'solta': 1,\n",
              "         'subir': 1,\n",
              "         'tenho': 1,\n",
              "         'um': 2})"
            ]
          },
          "metadata": {
            "tags": []
          },
          "execution_count": 58
        }
      ]
    },
    {
      "cell_type": "markdown",
      "metadata": {
        "id": "ORqfcNClfVZm",
        "colab_type": "text"
      },
      "source": [
        "Contando Textos"
      ]
    },
    {
      "cell_type": "code",
      "metadata": {
        "id": "HKZtbVKIeLMu",
        "colab_type": "code",
        "colab": {}
      },
      "source": [
        "texto1 = \"\"\"\n",
        "Para começar a fazer vendas online, uma empresa que fabrica adesivos criou uma página para pré cadastro de cartão de crédito que contém campos como nome, idade, endereço, CPF entre outros.\n",
        "\n",
        "O problema é que alguns cadastros não possuem um formato de CPF válido, isso porque o campo não possui nenhuma validação. Ou seja, o campo está aceitando não só números como letras e outros tipos de caractere.\n",
        "\n",
        "O que vamos fazer é encontrar uma maneira de ajudar o usuário de forma mais clara possível a preencher o cadastro e garantir a validação no front-end antes que os dados sejam enviados para o back-end.\n",
        "\n",
        "Como podemos notar não temos nenhuma validação, então fica confuso se devemos ou não colocar ponto ou traço no CPF e pode acontecer do usuário colocar outros caracteres no campo sem querer.\n",
        "\n",
        "Para isso evitar que isso ocorra vamos usar o atributo pattern do HTML5 que nos permite fazer uso das famosas expressões regulares que nada mais são que padrões utilizados para selecionar caracteres em uma string.\n",
        "\n",
        "Na nossa verificação vamos usar a lista [0-9], esse padrão indica que queremos os números de 0 até 9 e o intervalo {11}, indicando que temos que ter um número de 11 dígitos no nosso campo.\n",
        "\n",
        "Com a adição do pattern nosso campo de CPF ficou da seguinte maneira:\n",
        "\n",
        "Com a ajuda do pattern e das expressões regulares conseguimos resolver uma parte da tarefa, agora o que precisamos fazer encontrar uma maneira de formatar o CPF no padrão que precisamos enviar ao back-end.\n",
        "\n",
        "Mais um pouco de Regex\n",
        "Para começar vamos criar uma função que vai ser responsável por formatar o CPF. Dentro dessa função vamos ter as variáveis :\n",
        "\n",
        "elementoAlvo: responsável pelo parâmetro que vai ser passado na função\n",
        "cpfAtual: responsável por capturar os números do CPF digitados\n",
        "cpfAtualizado: responsável por receber o CPF formatado.\n",
        "\n",
        "\"\"\"\n",
        "\n",
        "texto2 = \"\"\"\n",
        "\n",
        "Vamos imaginar uma empresa como o Nubank, seu nome é ByteBank. A primeira vista ela vende cartões de crédito e possui uma estratégia de marketing de conteúdo para seus clientes (Business to Consumer, B2C).\n",
        "\n",
        "Agora ela está lançando um novo cartão focado em empresas e quer criar uma estratégia de marketing de conteúdo para outras empresas (business to business, B2B).\n",
        "\n",
        "Como eles podem criar essa estratégia? É possível utilizar ideias e ferramentas do marketing de conteúdo B2C para o B2B?\n",
        "\n",
        "No marketing de conteúdo criado para B2C da ByteBank é muito enfatizado que as principais vantagens da empresa são:\n",
        "\n",
        "saber o limite na hora;\n",
        "não pagar qualquer tarifa e\n",
        "não ter que lidar com burocracia na hora de fazer o cartão.\n",
        "Então, todo o plano é focado em criar conteúdos sobre questões relacionadas ao mundo financeiro, para mostrar que a empresa é especialista no assunto, transmitindo uma confiança aos clientes.\n",
        "\n",
        "A equipe de marketing escreveu um texto no qual foram explicadas todas as taxas do cartão de crédito. Depois de explicar com detalhes o que é cada taxa, foi mostrado o porquê do cartão dessa empresa não cobrar nenhuma delas.\n",
        "\n",
        "Para mostrar na prática o quanto o consumidor economizaria, eles deram como um exemplo que mostram o que pode ser comprado com o dinheiro economizado em tarifas do cartão. Veja como ficou o texto:\n",
        "\n",
        "Se a tarifa é de 30 reais por mês, depois de um ano: 30 (tarifa) * 12 (meses) = 360, você gasta R$ 360,00 só em tarifas! Não seria muito melhor comprar um Kindle ou dois jogos para Playstation 4 ou, até mesmo, ir uma vez por mês ao cinema (e pagando inteira) com esse dinheiro em vez de pagá-lo em tarifas?\n",
        "\n",
        "Será que se pode fazer a mesma coisa para o B2B, já que não existem tarifas para empresas também?\n",
        "\n",
        "As empresas que querem comprar um produto precisam avaliar muito bem toda a compra, sempre se perguntando se aquele produto realmente compensa para ela, principalmente a longo prazo.\n",
        "\n",
        "Então, e se fosse dito coisas que a empresa poderia fazer com o dinheiro que também vão trazer um retorno financeiro, ao contrário das taxas dos bancos? Como fazer pesquisas com usuários, desenvolver novos produtos, treinar pessoas para marketing, entre outras coisas?\n",
        "\n",
        "Pensando nessas diferenças, utilizamos o mesmo exemplo: quanto seria economizado por ano pela empresa cliente. Porém, no texto inteiro, queremos também mostrar dicas de como ela pode poupar, de diversas maneiras, mesmo usando um cartão de crédito. Então, o exemplo de economia no texto ficou assim:\n",
        "\n",
        "Pensando que a tarifa para empresas é mais barata que para pessoas físicas, ou seja, de 30 reais, passa a ser 10 reais por cartão para cada colaborador, e dez cartões serão feitos, cada um pertencendo a colaborador, depois de um ano, serão pagos: 10 (de tarifa) * 10 (quantidade de cartões) * 12 (meses do ano) = 1200.\n",
        "\n",
        "Assim, a organização gastaria R$ 1.200,00 para manter os cartões durante esse período. Agora, se os cartões não possuem tarifa nenhuma, em vez de pagar esse valor, a empresa economizará R$1.200,00.\n",
        "\n",
        "Agora, com essa economia, você poderia investir em treinamentos ou eventos, que, após um tempo, poderiam aumentar ainda mais o retorno da empresa.\n",
        "\n",
        "Foi usada uma linguagem mais formal do que a B2C porque quando estamos lidando com empresas temos que ser mais práticos e mostrar exatamente o que a empresa ganha, e, no caso, até como poderia ganhar mais depois.\n",
        "\n",
        "Além dessa mudança na linguagem, tivemos ideias diferentes de conteúdo. No B2C foram apresentados conhecimentos a respeito de cada taxa, para que a pessoa entenda o que está pagando e confie em empresas que não cobra as taxas.\n",
        "\n",
        "Agora para B2B foram apresentadas formas para economizar no cartão, pois, muitas vezes, os empresários sabem o que é cada taxa do cartão e tem que utilizá-lo mesmo assim. Então, mostramos como ele pode economizar e, uma dessas formas, é usar o cartão da ByteBank.\n",
        "\n",
        "Nesse mesmo texto para B2B também acrescentamos o conteúdo de outra vantagem do cartão: poder determinar um limite de gastos para cada categoria nos cartões dos funcionários da empresa.\n",
        "\n",
        "Dessa forma, os funcionários não podem gastar mais do que o determinado e, assim, a empresa consegue economizar e planejar os gastos e não extrapolar com compras dos funcionários.\n",
        "\n",
        "O foco da comunicação B2B que utilizamos foi dar dicas para não cometer erros e economizar mais, para que a empresa perceba que utilizar o cartão é vantagem.\n",
        "\n",
        "E caso a sua empresa seja diferente da ByteBank, seja só B2B e não tenha nenhum plano de comunicação focado para B2C para se basear?\n",
        "\n",
        "Existem diversas empresas B2B:\n",
        "\n",
        "as que vendem tanto para B2B quanto para B2C, como a ByteBank;\n",
        "as que vendem para ambos os consumidores, mas possuem um foco maior no B2B, como a Marmotex, que tem como serviço entrega de marmitas e entregam tanto para consumidores quanto empresas, mas possuem um foco maior em organizações e catering  para eventos, ou seja, B2B\n",
        "as empresas somente B2B, como as de agências de publicidade.\n",
        "Cada uma das empresas que são B2B possui um produto e um serviço para mostrar.\n",
        "\n",
        "Então, caso você trabalhe em uma empresa que não possui um plano de marketing de conteúdo para B2C para se basear, é só seguir a ideia do marketing de conteúdo, de passar informações relacionados a sua empresa, tornando-a uma autoridade no assunto. E, além disso, mostrar maneiras que o seu produto e/ou serviço pode ajudar a empresa em determinado tema.\n",
        "\n",
        "No B2B, como no marketing de conteúdo focado no B2C, é importante frisar a importância e a relevância do produto e/ou serviço para o cliente. E, melhor, a longo prazo.\n",
        "\n",
        "A empresa cliente precisa entender e saber que a vantagem trazida pelo produto será duradoura. Pois o processo de compra B2B é mais longo justamente porque há muito em jogo e muitas pessoas envolvidas.\n",
        "\n",
        "Mudar de produto ou serviço é trabalhoso e pode causar prejuízo para a empresa, assim, eles buscam e precisam de garantias de que a solução funcionará por muito tempo.\n",
        "\n",
        "Assim, como no marketing B2C, os tipos de conteúdo devem se atentar aos clientes em cada fase do funil de marketing de conteúdo para trazer o conteúdo certo para a empresa em cada momento da obtenção do cartão.\n",
        "\n",
        "Para isso, a Bytebank utilizou dados, números, infográficos e mostrou com exemplos práticos maneiras de ajudar a contratante. Também escreveu conteúdos com histórias de empresas - os chamados cases de sucesso - que obtiveram lucro ou sucesso com o produto/serviço.\n",
        "\n",
        "Além disso, apresentou novidades e dicas tanto da sua empresa, que passou a fornecer uma conta para pessoas físicas e jurídicas, quanto do segmento dela, com informações que podem ser úteis ao cliente do setor financeiro.\n",
        "\n",
        "Como vimos, as principais diferenças entre os conteúdos B2C para o B2B são a linguagem, que deve ser mais formal se for B2B e apelar para o emocional se for B2C.\n",
        "\n",
        "No B2B você estará lidando com pessoas que tomam decisões nas empresas, então deverá mostrar como o produto pode ajudar a empresa, de preferência a longo prazo.\n",
        "\n",
        "Fora isso, o tipo de conteúdo pode ser o mesmo do marketing de conteúdo B2C. Passando desde textos sobre novidades, inovações e dicas na área, até infográficos com dados de pesquisas, vídeos, áudios de podcast, imagens e publicações nas redes sociais.\n",
        "\n",
        "Também, para conteúdo B2B, é muito comum encontrar whitepapers, grupos de usuários, meetups, cases de sucesso, trial gratuito, e até mesmo vídeos ou campanhas e posts de marketing com influenciadores.\n",
        "\n",
        "Agora, se você quiser saber mais sobre marketing de conteúdo, pode fazer nosso curso de Marketing de Conteúdo e, também, conferir mais informações no livro da Casa do Código, Marketing de Conteúdo: Estratégias para entregar o que seu público quer consumir\n",
        "\n",
        "\"\"\""
      ],
      "execution_count": 0,
      "outputs": []
    },
    {
      "cell_type": "code",
      "metadata": {
        "id": "i79qGKl-g12G",
        "colab_type": "code",
        "colab": {
          "base_uri": "https://localhost:8080/",
          "height": 806
        },
        "outputId": "19b6e881-6072-4837-cee2-6059023ba6e8"
      },
      "source": [
        "aparicoes = Counter(texto1.lower())\n",
        "sum(aparicoes.values()) #soma de valores\n"
      ],
      "execution_count": 61,
      "outputs": [
        {
          "output_type": "execute_result",
          "data": {
            "text/plain": [
              "Counter({'\\n': 24,\n",
              "         ' ': 294,\n",
              "         ',': 10,\n",
              "         '-': 4,\n",
              "         '.': 10,\n",
              "         '0': 2,\n",
              "         '1': 4,\n",
              "         '5': 1,\n",
              "         '9': 2,\n",
              "         ':': 5,\n",
              "         '[': 1,\n",
              "         ']': 1,\n",
              "         'a': 175,\n",
              "         'b': 6,\n",
              "         'c': 65,\n",
              "         'd': 62,\n",
              "         'e': 158,\n",
              "         'f': 30,\n",
              "         'g': 12,\n",
              "         'h': 4,\n",
              "         'i': 59,\n",
              "         'j': 4,\n",
              "         'k': 2,\n",
              "         'l': 29,\n",
              "         'm': 66,\n",
              "         'n': 76,\n",
              "         'o': 172,\n",
              "         'p': 59,\n",
              "         'q': 19,\n",
              "         'r': 123,\n",
              "         's': 116,\n",
              "         't': 62,\n",
              "         'u': 65,\n",
              "         'v': 28,\n",
              "         'x': 3,\n",
              "         'z': 6,\n",
              "         '{': 1,\n",
              "         '}': 1,\n",
              "         'á': 10,\n",
              "         'â': 1,\n",
              "         'ã': 18,\n",
              "         'ç': 12,\n",
              "         'é': 6,\n",
              "         'í': 2,\n",
              "         'ó': 1,\n",
              "         'õ': 3,\n",
              "         'ú': 4})"
            ]
          },
          "metadata": {
            "tags": []
          },
          "execution_count": 61
        }
      ]
    },
    {
      "cell_type": "code",
      "metadata": {
        "id": "VR6oj_bah96J",
        "colab_type": "code",
        "colab": {
          "base_uri": "https://localhost:8080/",
          "height": 185
        },
        "outputId": "8382685d-0f6e-444f-e21b-6fbefb878549"
      },
      "source": [
        "aparicoes = Counter(texto1.lower())\n",
        "totalCaracteres = sum(aparicoes.values()) #soma de valores\n",
        "\n",
        "proporcoes = [(letra, frequencia / totalCaracteres) for letra, frequencia in aparicoes.items()]\n",
        "proporcoes = Counter(dict(proporcoes))\n",
        "maisComuns = proporcoes.most_common(10)\n",
        "\n",
        "for caractere, proprocao in maisComuns:\n",
        "  print(\"{} => {:.2f}%\".format(caractere,  proprocao*100))"
      ],
      "execution_count": 70,
      "outputs": [
        {
          "output_type": "stream",
          "text": [
            "  => 16.17%\n",
            "a => 9.63%\n",
            "o => 9.46%\n",
            "e => 8.69%\n",
            "r => 6.77%\n",
            "s => 6.38%\n",
            "n => 4.18%\n",
            "m => 3.63%\n",
            "c => 3.58%\n",
            "u => 3.58%\n"
          ],
          "name": "stdout"
        }
      ]
    },
    {
      "cell_type": "code",
      "metadata": {
        "id": "ph0fr0aBkOe2",
        "colab_type": "code",
        "colab": {
          "base_uri": "https://localhost:8080/",
          "height": 185
        },
        "outputId": "4f80f43a-99f7-4630-b5e0-9c243a8c26ed"
      },
      "source": [
        "aparicoes = Counter(texto2.lower())\n",
        "totalCaracteres = sum(aparicoes.values()) #soma de valores\n",
        "\n",
        "proporcoes = [(letra, frequencia / totalCaracteres) for letra, frequencia in aparicoes.items()]\n",
        "proporcoes = Counter(dict(proporcoes))\n",
        "maisComuns = proporcoes.most_common(10)\n",
        "\n",
        "for caractere, proprocao in maisComuns:\n",
        "  print(\"{} => {:.2f}%\".format(caractere,  proprocao*100))"
      ],
      "execution_count": 71,
      "outputs": [
        {
          "output_type": "stream",
          "text": [
            "  => 16.26%\n",
            "a => 9.76%\n",
            "e => 9.41%\n",
            "o => 8.54%\n",
            "s => 6.70%\n",
            "r => 5.81%\n",
            "m => 4.42%\n",
            "i => 4.03%\n",
            "t => 4.00%\n",
            "n => 3.94%\n"
          ],
          "name": "stdout"
        }
      ]
    },
    {
      "cell_type": "code",
      "metadata": {
        "id": "WYPfSDgGnVKJ",
        "colab_type": "code",
        "colab": {}
      },
      "source": [
        ""
      ],
      "execution_count": 0,
      "outputs": []
    }
  ]
}